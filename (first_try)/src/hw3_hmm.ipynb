{
  "cells": [
    {
      "cell_type": "markdown",
      "metadata": {
        "id": "vRciyzvPEDLD"
      },
      "source": [
        "# Устанавливаем java и ChromHmm"
      ]
    },
    {
      "cell_type": "code",
      "execution_count": 1,
      "metadata": {
        "colab": {
          "base_uri": "https://localhost:8080/"
        },
        "id": "1O3GJ3Gys7Tm",
        "outputId": "9b39307d-c0b2-4e3c-c3fa-f00f7a7a5e8f"
      },
      "outputs": [
        {
          "name": "stdout",
          "output_type": "stream",
          "text": [
            "  % Total    % Received % Xferd  Average Speed   Time    Time     Time  Current\n",
            "                                 Dload  Upload   Total   Spent    Left  Speed\n",
            "\r  0     0    0     0    0     0      0      0 --:--:-- --:--:-- --:--:--     0\r100   155  100   155    0     0   1156      0 --:--:-- --:--:-- --:--:--  1156\n",
            "nvcc: NVIDIA (R) Cuda compiler driver\n",
            "Copyright (c) 2005-2019 NVIDIA Corporation\n",
            "Built on Sun_Jul_28_19:07:16_PDT_2019\n",
            "Cuda compilation tools, release 10.1, V10.1.243\n"
          ]
        }
      ],
      "source": [
        "!curl -O https://raw.githubusercontent.com/deepjavalibrary/d2l-java/master/tools/fix-colab-gpu.sh && bash fix-colab-gpu.sh"
      ]
    },
    {
      "cell_type": "code",
      "execution_count": 2,
      "metadata": {
        "colab": {
          "base_uri": "https://localhost:8080/"
        },
        "id": "NxS1Mv5WquOV",
        "outputId": "5c7c666c-6a11-4d66-da96-5a1b75b0f8f1"
      },
      "outputs": [
        {
          "name": "stdout",
          "output_type": "stream",
          "text": [
            "  % Total    % Received % Xferd  Average Speed   Time    Time     Time  Current\n",
            "                                 Dload  Upload   Total   Spent    Left  Speed\n",
            "\r  0     0    0     0    0     0      0      0 --:--:-- --:--:-- --:--:--     0\r100   520  100   520    0     0   4000      0 --:--:-- --:--:-- --:--:--  4031\n",
            "Update environment...\n",
            "Install Java...\n",
            "Install Jupyter java kernel...\n"
          ]
        }
      ],
      "source": [
        "!curl -O https://raw.githubusercontent.com/deepjavalibrary/d2l-java/master/tools/colab_build.sh && bash colab_build.sh"
      ]
    },
    {
      "cell_type": "code",
      "execution_count": 3,
      "metadata": {
        "colab": {
          "base_uri": "https://localhost:8080/"
        },
        "id": "_NrPS924rQFX",
        "outputId": "5f00f4a1-9957-4aa2-c0dc-9d6dfa3513ff"
      },
      "outputs": [
        {
          "name": "stdout",
          "output_type": "stream",
          "text": [
            "jdk.jshell@11.0.14\n"
          ]
        }
      ],
      "source": [
        "!java --list-modules | grep \"jdk.jshell\""
      ]
    },
    {
      "cell_type": "code",
      "execution_count": 4,
      "metadata": {
        "colab": {
          "base_uri": "https://localhost:8080/"
        },
        "id": "zCdYYvCJrpRt",
        "outputId": "6a2998c9-42db-4731-d6e7-26749be6ab95"
      },
      "outputs": [
        {
          "name": "stdout",
          "output_type": "stream",
          "text": [
            "--2022-03-19 19:50:57--  http://compbio.mit.edu/ChromHMM/ChromHMM.zip\n",
            "Resolving compbio.mit.edu (compbio.mit.edu)... 128.30.2.44\n",
            "Connecting to compbio.mit.edu (compbio.mit.edu)|128.30.2.44|:80... connected.\n",
            "HTTP request sent, awaiting response... 200 OK\n",
            "Length: 42396742 (40M) [application/zip]\n",
            "Saving to: ‘ChromHMM.zip’\n",
            "\n",
            "ChromHMM.zip        100%[===================>]  40.43M  10.4MB/s    in 4.2s    \n",
            "\n",
            "2022-03-19 19:51:01 (9.65 MB/s) - ‘ChromHMM.zip’ saved [42396742/42396742]\n",
            "\n"
          ]
        }
      ],
      "source": [
        "! wget http://compbio.mit.edu/ChromHMM/ChromHMM.zip"
      ]
    },
    {
      "cell_type": "code",
      "execution_count": 5,
      "metadata": {
        "colab": {
          "base_uri": "https://localhost:8080/"
        },
        "id": "gF4uI2bvvEN2",
        "outputId": "e1dcffce-d8dc-4dca-e7cb-e2240436769b"
      },
      "outputs": [
        {
          "name": "stdout",
          "output_type": "stream",
          "text": [
            "Archive:  /content/ChromHMM.zip\n",
            "   creating: ChromHMM/ANCHORFILES/\n",
            "   creating: ChromHMM/ANCHORFILES/ce10/\n",
            "  inflating: ChromHMM/ANCHORFILES/ce10/RefSeqTES.ce10.txt.gz  \n",
            "  inflating: ChromHMM/ANCHORFILES/ce10/RefSeqTSS.ce10.txt.gz  \n",
            "   creating: ChromHMM/ANCHORFILES/ce11/\n",
            "  inflating: ChromHMM/ANCHORFILES/ce11/RefSeqTES.ce11.txt.gz  \n",
            "  inflating: ChromHMM/ANCHORFILES/ce11/RefSeqTSS.ce11.txt.gz  \n",
            "   creating: ChromHMM/ANCHORFILES/ce6/\n",
            "  inflating: ChromHMM/ANCHORFILES/ce6/RefSeqTES.ce6.txt.gz  \n",
            "  inflating: ChromHMM/ANCHORFILES/ce6/RefSeqTSS.ce6.txt.gz  \n",
            "   creating: ChromHMM/ANCHORFILES/danRer10/\n",
            "  inflating: ChromHMM/ANCHORFILES/danRer10/RefSeqTES.danRer10.txt.gz  \n",
            "  inflating: ChromHMM/ANCHORFILES/danRer10/RefSeqTSS.danRer10.txt.gz  \n",
            "   creating: ChromHMM/ANCHORFILES/danRer11/\n",
            "  inflating: ChromHMM/ANCHORFILES/danRer11/RefSeqTES.danRer11.txt.gz  \n",
            "  inflating: ChromHMM/ANCHORFILES/danRer11/RefSeqTSS.danRer11.txt.gz  \n",
            "   creating: ChromHMM/ANCHORFILES/danRer7/\n",
            "  inflating: ChromHMM/ANCHORFILES/danRer7/RefSeqTES.danRer7.txt.gz  \n",
            "  inflating: ChromHMM/ANCHORFILES/danRer7/RefSeqTSS.danRer7.txt.gz  \n",
            "   creating: ChromHMM/ANCHORFILES/dm3/\n",
            "  inflating: ChromHMM/ANCHORFILES/dm3/RefSeqTES.dm3.txt.gz  \n",
            "  inflating: ChromHMM/ANCHORFILES/dm3/RefSeqTSS.dm3.txt.gz  \n",
            "   creating: ChromHMM/ANCHORFILES/dm6/\n",
            "  inflating: ChromHMM/ANCHORFILES/dm6/RefSeqTES.dm6.txt.gz  \n",
            "  inflating: ChromHMM/ANCHORFILES/dm6/RefSeqTSS.dm6.txt.gz  \n",
            "   creating: ChromHMM/ANCHORFILES/hg18/\n",
            "  inflating: ChromHMM/ANCHORFILES/hg18/RefSeqTES.hg18.txt.gz  \n",
            "  inflating: ChromHMM/ANCHORFILES/hg18/RefSeqTSS.hg18.txt.gz  \n",
            "   creating: ChromHMM/ANCHORFILES/hg19/\n",
            "  inflating: ChromHMM/ANCHORFILES/hg19/RefSeqTES.hg19.txt.gz  \n",
            "  inflating: ChromHMM/ANCHORFILES/hg19/RefSeqTSS.hg19.txt.gz  \n",
            "   creating: ChromHMM/ANCHORFILES/hg38/\n",
            "  inflating: ChromHMM/ANCHORFILES/hg38/RefSeqTES.hg38.txt.gz  \n",
            "  inflating: ChromHMM/ANCHORFILES/hg38/RefSeqTSS.hg38.txt.gz  \n",
            "   creating: ChromHMM/ANCHORFILES/mm10/\n",
            "  inflating: ChromHMM/ANCHORFILES/mm10/RefSeqTES.mm10.txt.gz  \n",
            "  inflating: ChromHMM/ANCHORFILES/mm10/RefSeqTSS.mm10.txt.gz  \n",
            "   creating: ChromHMM/ANCHORFILES/mm9/\n",
            "  inflating: ChromHMM/ANCHORFILES/mm9/RefSeqTES.mm9.txt.gz  \n",
            "  inflating: ChromHMM/ANCHORFILES/mm9/RefSeqTSS.mm9.txt.gz  \n",
            "   creating: ChromHMM/ANCHORFILES/rn5/\n",
            "  inflating: ChromHMM/ANCHORFILES/rn5/RefSeqTES.rn5.txt.gz  \n",
            "  inflating: ChromHMM/ANCHORFILES/rn5/RefSeqTSS.rn5.txt.gz  \n",
            "   creating: ChromHMM/ANCHORFILES/rn6/\n",
            "  inflating: ChromHMM/ANCHORFILES/rn6/RefSeqTES.rn6.txt.gz  \n",
            "  inflating: ChromHMM/ANCHORFILES/rn6/RefSeqTSS.rn6.txt.gz  \n",
            "  inflating: ChromHMM/ChromHMM.jar   \n",
            "  inflating: ChromHMM/ChromHMM_manual.pdf  \n",
            "   creating: ChromHMM/CHROMSIZES/\n",
            "  inflating: ChromHMM/CHROMSIZES/ce10.txt  \n",
            "  inflating: ChromHMM/CHROMSIZES/ce11.txt  \n",
            "  inflating: ChromHMM/CHROMSIZES/ce6.txt  \n",
            "  inflating: ChromHMM/CHROMSIZES/danRer10.txt  \n",
            "  inflating: ChromHMM/CHROMSIZES/danRer11.txt  \n",
            "  inflating: ChromHMM/CHROMSIZES/danRer7.txt  \n",
            "  inflating: ChromHMM/CHROMSIZES/dm3.txt  \n",
            "  inflating: ChromHMM/CHROMSIZES/dm6.txt  \n",
            "  inflating: ChromHMM/CHROMSIZES/hg18.txt  \n",
            "  inflating: ChromHMM/CHROMSIZES/hg19.txt  \n",
            "  inflating: ChromHMM/CHROMSIZES/hg38.txt  \n",
            "  inflating: ChromHMM/CHROMSIZES/mm10.txt  \n",
            "  inflating: ChromHMM/CHROMSIZES/mm9.txt  \n",
            "  inflating: ChromHMM/CHROMSIZES/rn5.txt  \n",
            "  inflating: ChromHMM/CHROMSIZES/rn6.txt  \n",
            "   creating: ChromHMM/COORDS/\n",
            "   creating: ChromHMM/COORDS/ce10/\n",
            "  inflating: ChromHMM/COORDS/ce10/RefSeqExon.ce10.bed.gz  \n",
            "  inflating: ChromHMM/COORDS/ce10/RefSeqGene.ce10.bed.gz  \n",
            "  inflating: ChromHMM/COORDS/ce10/RefSeqTES.ce10.bed.gz  \n",
            "  inflating: ChromHMM/COORDS/ce10/RefSeqTSS.ce10.bed.gz  \n",
            "  inflating: ChromHMM/COORDS/ce10/RefSeqTSS2kb.ce10.bed.gz  \n",
            "   creating: ChromHMM/COORDS/ce11/\n",
            "  inflating: ChromHMM/COORDS/ce11/RefSeqExon.ce11.bed.gz  \n",
            "  inflating: ChromHMM/COORDS/ce11/RefSeqGene.ce11.bed.gz  \n",
            "  inflating: ChromHMM/COORDS/ce11/RefSeqTES.ce11.bed.gz  \n",
            "  inflating: ChromHMM/COORDS/ce11/RefSeqTSS.ce11.bed.gz  \n",
            "  inflating: ChromHMM/COORDS/ce11/RefSeqTSS2kb.ce11.bed.gz  \n",
            "   creating: ChromHMM/COORDS/ce6/\n",
            "  inflating: ChromHMM/COORDS/ce6/RefSeqExon.ce6.bed.gz  \n",
            "  inflating: ChromHMM/COORDS/ce6/RefSeqGene.ce6.bed.gz  \n",
            "  inflating: ChromHMM/COORDS/ce6/RefSeqTES.ce6.bed.gz  \n",
            "  inflating: ChromHMM/COORDS/ce6/RefSeqTSS.ce6.bed.gz  \n",
            "  inflating: ChromHMM/COORDS/ce6/RefSeqTSS2kb.ce6.bed.gz  \n",
            "   creating: ChromHMM/COORDS/danRer10/\n",
            "  inflating: ChromHMM/COORDS/danRer10/RefSeqExon.danRer10.bed.gz  \n",
            "  inflating: ChromHMM/COORDS/danRer10/RefSeqGene.danRer10.bed.gz  \n",
            "  inflating: ChromHMM/COORDS/danRer10/RefSeqTES.danRer10.bed.gz  \n",
            "  inflating: ChromHMM/COORDS/danRer10/RefSeqTSS.danRer10.bed.gz  \n",
            "  inflating: ChromHMM/COORDS/danRer10/RefSeqTSS2kb.danRer10.bed.gz  \n",
            "   creating: ChromHMM/COORDS/danRer11/\n",
            "  inflating: ChromHMM/COORDS/danRer11/RefSeqExon.danRer11.bed.gz  \n",
            "  inflating: ChromHMM/COORDS/danRer11/RefSeqGene.danRer11.bed.gz  \n",
            "  inflating: ChromHMM/COORDS/danRer11/RefSeqTES.danRer11.bed.gz  \n",
            "  inflating: ChromHMM/COORDS/danRer11/RefSeqTSS.danRer11.bed.gz  \n",
            "  inflating: ChromHMM/COORDS/danRer11/RefSeqTSS2kb.danRer11.bed.gz  \n",
            "   creating: ChromHMM/COORDS/danRer7/\n",
            "  inflating: ChromHMM/COORDS/danRer7/RefSeqExon.danRer7.bed.gz  \n",
            "  inflating: ChromHMM/COORDS/danRer7/RefSeqGene.danRer7.bed.gz  \n",
            "  inflating: ChromHMM/COORDS/danRer7/RefSeqTES.danRer7.bed.gz  \n",
            "  inflating: ChromHMM/COORDS/danRer7/RefSeqTSS.danRer7.bed.gz  \n",
            "  inflating: ChromHMM/COORDS/danRer7/RefSeqTSS2kb.danRer7.bed.gz  \n",
            "   creating: ChromHMM/COORDS/dm3/\n",
            "  inflating: ChromHMM/COORDS/dm3/RefSeqExon.dm3.bed.gz  \n",
            "  inflating: ChromHMM/COORDS/dm3/RefSeqGene.dm3.bed.gz  \n",
            "  inflating: ChromHMM/COORDS/dm3/RefSeqTES.dm3.bed.gz  \n",
            "  inflating: ChromHMM/COORDS/dm3/RefSeqTSS.dm3.bed.gz  \n",
            "  inflating: ChromHMM/COORDS/dm3/RefSeqTSS2kb.dm3.bed.gz  \n",
            "   creating: ChromHMM/COORDS/dm6/\n",
            "  inflating: ChromHMM/COORDS/dm6/RefSeqExon.dm6.bed.gz  \n",
            "  inflating: ChromHMM/COORDS/dm6/RefSeqGene.dm6.bed.gz  \n",
            "  inflating: ChromHMM/COORDS/dm6/RefSeqTES.dm6.bed.gz  \n",
            "  inflating: ChromHMM/COORDS/dm6/RefSeqTSS.dm6.bed.gz  \n",
            "  inflating: ChromHMM/COORDS/dm6/RefSeqTSS2kb.dm6.bed.gz  \n",
            "   creating: ChromHMM/COORDS/hg18/\n",
            "  inflating: ChromHMM/COORDS/hg18/CpGIsland.hg18.bed.gz  \n",
            " extracting: ChromHMM/COORDS/hg18/laminB1lads.hg18.bed.gz  \n",
            "  inflating: ChromHMM/COORDS/hg18/RefSeqExon.hg18.bed.gz  \n",
            "  inflating: ChromHMM/COORDS/hg18/RefSeqGene.hg18.bed.gz  \n",
            "  inflating: ChromHMM/COORDS/hg18/RefSeqTES.hg18.bed.gz  \n",
            "  inflating: ChromHMM/COORDS/hg18/RefSeqTSS.hg18.bed.gz  \n",
            "  inflating: ChromHMM/COORDS/hg18/RefSeqTSS2kb.hg18.bed.gz  \n",
            "   creating: ChromHMM/COORDS/hg19/\n",
            "  inflating: ChromHMM/COORDS/hg19/CpGIsland.hg19.bed.gz  \n",
            " extracting: ChromHMM/COORDS/hg19/laminB1lads.hg19.bed.gz  \n",
            "  inflating: ChromHMM/COORDS/hg19/RefSeqExon.hg19.bed.gz  \n",
            "  inflating: ChromHMM/COORDS/hg19/RefSeqGene.hg19.bed.gz  \n",
            "  inflating: ChromHMM/COORDS/hg19/RefSeqTES.hg19.bed.gz  \n",
            "  inflating: ChromHMM/COORDS/hg19/RefSeqTSS.hg19.bed.gz  \n",
            "  inflating: ChromHMM/COORDS/hg19/RefSeqTSS2kb.hg19.bed.gz  \n",
            "   creating: ChromHMM/COORDS/hg38/\n",
            "  inflating: ChromHMM/COORDS/hg38/CpGIsland.hg38.bed.gz  \n",
            "  inflating: ChromHMM/COORDS/hg38/RefSeqExon.hg38.bed.gz  \n",
            "  inflating: ChromHMM/COORDS/hg38/RefSeqGene.hg38.bed.gz  \n",
            "  inflating: ChromHMM/COORDS/hg38/RefSeqTES.hg38.bed.gz  \n",
            "  inflating: ChromHMM/COORDS/hg38/RefSeqTSS.hg38.bed.gz  \n",
            "  inflating: ChromHMM/COORDS/hg38/RefSeqTSS2kb.hg38.bed.gz  \n",
            "   creating: ChromHMM/COORDS/mm10/\n",
            "  inflating: ChromHMM/COORDS/mm10/CpGIsland.mm10.bed.gz  \n",
            "  inflating: ChromHMM/COORDS/mm10/RefSeqExon.mm10.bed.gz  \n",
            "  inflating: ChromHMM/COORDS/mm10/RefSeqGene.mm10.bed.gz  \n",
            "  inflating: ChromHMM/COORDS/mm10/RefSeqTES.mm10.bed.gz  \n",
            "  inflating: ChromHMM/COORDS/mm10/RefSeqTSS.mm10.bed.gz  \n",
            "  inflating: ChromHMM/COORDS/mm10/RefSeqTSS2kb.mm10.bed.gz  \n",
            "   creating: ChromHMM/COORDS/mm9/\n",
            "  inflating: ChromHMM/COORDS/mm9/CpGIsland.mm9.bed.gz  \n",
            "  inflating: ChromHMM/COORDS/mm9/RefSeqExon.mm9.bed.gz  \n",
            "  inflating: ChromHMM/COORDS/mm9/RefSeqGene.mm9.bed.gz  \n",
            "  inflating: ChromHMM/COORDS/mm9/RefSeqTES.mm9.bed.gz  \n",
            "  inflating: ChromHMM/COORDS/mm9/RefSeqTSS.mm9.bed.gz  \n",
            "  inflating: ChromHMM/COORDS/mm9/RefSeqTSS2kb.mm9.bed.gz  \n",
            "   creating: ChromHMM/COORDS/rn5/\n",
            "  inflating: ChromHMM/COORDS/rn5/CpGIsland.rn5.bed.gz  \n",
            "  inflating: ChromHMM/COORDS/rn5/RefSeqExon.rn5.bed.gz  \n",
            "  inflating: ChromHMM/COORDS/rn5/RefSeqGene.rn5.bed.gz  \n",
            "  inflating: ChromHMM/COORDS/rn5/RefSeqTES.rn5.bed.gz  \n",
            "  inflating: ChromHMM/COORDS/rn5/RefSeqTSS.rn5.bed.gz  \n",
            "  inflating: ChromHMM/COORDS/rn5/RefSeqTSS2kb.rn5.bed.gz  \n",
            "   creating: ChromHMM/COORDS/rn6/\n",
            "  inflating: ChromHMM/COORDS/rn6/CpGIsland.rn6.bed.gz  \n",
            "  inflating: ChromHMM/COORDS/rn6/RefSeqExon.rn6.bed.gz  \n",
            "  inflating: ChromHMM/COORDS/rn6/RefSeqGene.rn6.bed.gz  \n",
            "  inflating: ChromHMM/COORDS/rn6/RefSeqTES.rn6.bed.gz  \n",
            "  inflating: ChromHMM/COORDS/rn6/RefSeqTSS.rn6.bed.gz  \n",
            "  inflating: ChromHMM/COORDS/rn6/RefSeqTSS2kb.rn6.bed.gz  \n",
            "   creating: ChromHMM/SAMPLEDATA_HG18/\n",
            "  inflating: ChromHMM/SAMPLEDATA_HG18/GM12878_chr11_binary.txt.gz  \n",
            "  inflating: ChromHMM/SAMPLEDATA_HG18/K562_chr11_binary.txt.gz  \n",
            "   creating: ChromHMM/SRC/\n",
            "   creating: ChromHMM/SRC/edu/\n",
            "   creating: ChromHMM/SRC/edu/mit/\n",
            "   creating: ChromHMM/SRC/edu/mit/compbio/\n",
            "   creating: ChromHMM/SRC/edu/mit/compbio/ChromHMM/\n",
            "  inflating: ChromHMM/SRC/edu/mit/compbio/ChromHMM/BrowserOutput.java  \n",
            "  inflating: ChromHMM/SRC/edu/mit/compbio/ChromHMM/ChromHMM.java  \n",
            "  inflating: ChromHMM/SRC/edu/mit/compbio/ChromHMM/ConvertGeneTable.java  \n",
            "  inflating: ChromHMM/SRC/edu/mit/compbio/ChromHMM/NestedEliminateInitialize.java  \n",
            "  inflating: ChromHMM/SRC/edu/mit/compbio/ChromHMM/Preprocessing.java  \n",
            "  inflating: ChromHMM/SRC/edu/mit/compbio/ChromHMM/StateAnalysis.java  \n",
            "  inflating: ChromHMM/SRC/edu/mit/compbio/ChromHMM/Util.java  \n",
            "   creating: ChromHMM/SRC/org/\n",
            "   creating: ChromHMM/SRC/org/tc33/\n",
            "   creating: ChromHMM/SRC/org/tc33/jheatchart/\n",
            "  inflating: ChromHMM/SRC/org/tc33/jheatchart/HeatChart.java  \n"
          ]
        }
      ],
      "source": [
        "!unzip /content/ChromHMM.zip"
      ]
    },
    {
      "cell_type": "markdown",
      "metadata": {
        "id": "k80uGrS5quq1"
      },
      "source": [
        "## Скачиваем файлы"
      ]
    },
    {
      "cell_type": "code",
      "execution_count": 7,
      "metadata": {
        "colab": {
          "base_uri": "https://localhost:8080/"
        },
        "id": "QWR1O9xfR--1",
        "outputId": "5dd1ae98-9735-460a-c57a-1597e7edf457"
      },
      "outputs": [
        {
          "name": "stdout",
          "output_type": "stream",
          "text": [
            "--2022-03-19 19:51:23--  http://hgdownload.cse.ucsc.edu/goldenPath/hg19/encodeDCC/wgEncodeBroadHistone/wgEncodeBroadHistoneA549H2azDex100nmAlnRep1.bam\n",
            "Resolving hgdownload.cse.ucsc.edu (hgdownload.cse.ucsc.edu)... 128.114.119.163\n",
            "Connecting to hgdownload.cse.ucsc.edu (hgdownload.cse.ucsc.edu)|128.114.119.163|:80... connected.\n",
            "HTTP request sent, awaiting response... 200 OK\n",
            "Length: 2009250335 (1.9G) [application/octet-stream]\n",
            "Saving to: ‘H2az.bam’\n",
            "\n",
            "H2az.bam            100%[===================>]   1.87G  48.1MB/s    in 40s     \n",
            "\n",
            "2022-03-19 19:52:03 (47.7 MB/s) - ‘H2az.bam’ saved [2009250335/2009250335]\n",
            "\n",
            "--2022-03-19 19:52:03--  http://hgdownload.cse.ucsc.edu/goldenPath/hg19/encodeDCC/wgEncodeBroadHistone/wgEncodeBroadHistoneA549H3k27acDex100nmAlnRep1.bam\n",
            "Resolving hgdownload.cse.ucsc.edu (hgdownload.cse.ucsc.edu)... 128.114.119.163\n",
            "Connecting to hgdownload.cse.ucsc.edu (hgdownload.cse.ucsc.edu)|128.114.119.163|:80... connected.\n",
            "HTTP request sent, awaiting response... 200 OK\n",
            "Length: 1613138298 (1.5G) [application/octet-stream]\n",
            "Saving to: ‘H3k27ac.bam’\n",
            "\n",
            "H3k27ac.bam         100%[===================>]   1.50G  49.3MB/s    in 32s     \n",
            "\n",
            "2022-03-19 19:52:36 (47.7 MB/s) - ‘H3k27ac.bam’ saved [1613138298/1613138298]\n",
            "\n",
            "--2022-03-19 19:52:36--  http://hgdownload.cse.ucsc.edu/goldenPath/hg19/encodeDCC/wgEncodeBroadHistone/wgEncodeBroadHistoneA549H3k27me3Dex100nmAlnRep1.bam\n",
            "Resolving hgdownload.cse.ucsc.edu (hgdownload.cse.ucsc.edu)... 128.114.119.163\n",
            "Connecting to hgdownload.cse.ucsc.edu (hgdownload.cse.ucsc.edu)|128.114.119.163|:80... connected.\n",
            "HTTP request sent, awaiting response... 200 OK\n",
            "Length: 1204886525 (1.1G) [application/octet-stream]\n",
            "Saving to: ‘H3k27me3.bam’\n",
            "\n",
            "H3k27me3.bam        100%[===================>]   1.12G  48.5MB/s    in 24s     \n",
            "\n",
            "2022-03-19 19:53:00 (47.2 MB/s) - ‘H3k27me3.bam’ saved [1204886525/1204886525]\n",
            "\n",
            "--2022-03-19 19:53:00--  http://hgdownload.cse.ucsc.edu/goldenPath/hg19/encodeDCC/wgEncodeBroadHistone/wgEncodeBroadHistoneA549H3k36me3Dex100nmAlnRep1.bam\n",
            "Resolving hgdownload.cse.ucsc.edu (hgdownload.cse.ucsc.edu)... 128.114.119.163\n",
            "Connecting to hgdownload.cse.ucsc.edu (hgdownload.cse.ucsc.edu)|128.114.119.163|:80... connected.\n",
            "HTTP request sent, awaiting response... 200 OK\n",
            "Length: 1171206285 (1.1G) [application/octet-stream]\n",
            "Saving to: ‘H3k36me3.bam’\n",
            "\n",
            "H3k36me3.bam        100%[===================>]   1.09G  49.6MB/s    in 24s     \n",
            "\n",
            "2022-03-19 19:53:25 (46.0 MB/s) - ‘H3k36me3.bam’ saved [1171206285/1171206285]\n",
            "\n",
            "--2022-03-19 19:53:25--  http://hgdownload.cse.ucsc.edu/goldenPath/hg19/encodeDCC/wgEncodeBroadHistone/wgEncodeBroadHistoneA549H3k04me1Dex100nmAlnRep1.bam\n",
            "Resolving hgdownload.cse.ucsc.edu (hgdownload.cse.ucsc.edu)... 128.114.119.163\n",
            "Connecting to hgdownload.cse.ucsc.edu (hgdownload.cse.ucsc.edu)|128.114.119.163|:80... connected.\n",
            "HTTP request sent, awaiting response... 200 OK\n",
            "Length: 1457394253 (1.4G) [application/octet-stream]\n",
            "Saving to: ‘H3k04me1.bam’\n",
            "\n",
            "H3k04me1.bam        100%[===================>]   1.36G  47.5MB/s    in 29s     \n",
            "\n",
            "2022-03-19 19:53:55 (47.4 MB/s) - ‘H3k04me1.bam’ saved [1457394253/1457394253]\n",
            "\n",
            "--2022-03-19 19:53:55--  http://hgdownload.cse.ucsc.edu/goldenPath/hg19/encodeDCC/wgEncodeBroadHistone/wgEncodeBroadHistoneA549H3k04me2Dex100nmAlnRep1.bam\n",
            "Resolving hgdownload.cse.ucsc.edu (hgdownload.cse.ucsc.edu)... 128.114.119.163\n",
            "Connecting to hgdownload.cse.ucsc.edu (hgdownload.cse.ucsc.edu)|128.114.119.163|:80... connected.\n",
            "HTTP request sent, awaiting response... 200 OK\n",
            "Length: 1087535456 (1.0G) [application/octet-stream]\n",
            "Saving to: ‘H3k04me2.bam’\n",
            "\n",
            "H3k04me2.bam        100%[===================>]   1.01G  49.7MB/s    in 21s     \n",
            "\n",
            "2022-03-19 19:54:17 (48.6 MB/s) - ‘H3k04me2.bam’ saved [1087535456/1087535456]\n",
            "\n",
            "--2022-03-19 19:54:17--  http://hgdownload.cse.ucsc.edu/goldenPath/hg19/encodeDCC/wgEncodeBroadHistone/wgEncodeBroadHistoneA549H3k04me3Dex100nmAlnRep1.bam\n",
            "Resolving hgdownload.cse.ucsc.edu (hgdownload.cse.ucsc.edu)... 128.114.119.163\n",
            "Connecting to hgdownload.cse.ucsc.edu (hgdownload.cse.ucsc.edu)|128.114.119.163|:80... connected.\n",
            "HTTP request sent, awaiting response... 200 OK\n",
            "Length: 1107774312 (1.0G) [application/octet-stream]\n",
            "Saving to: ‘H3k04me3.bam’\n",
            "\n",
            "H3k04me3.bam        100%[===================>]   1.03G  50.7MB/s    in 22s     \n",
            "\n",
            "2022-03-19 19:54:39 (48.0 MB/s) - ‘H3k04me3.bam’ saved [1107774312/1107774312]\n",
            "\n",
            "--2022-03-19 19:54:39--  http://hgdownload.cse.ucsc.edu/goldenPath/hg19/encodeDCC/wgEncodeBroadHistone/wgEncodeBroadHistoneA549H3k79me2Dex100nmAlnRep1.bam\n",
            "Resolving hgdownload.cse.ucsc.edu (hgdownload.cse.ucsc.edu)... 128.114.119.163\n",
            "Connecting to hgdownload.cse.ucsc.edu (hgdownload.cse.ucsc.edu)|128.114.119.163|:80... connected.\n",
            "HTTP request sent, awaiting response... 200 OK\n",
            "Length: 964729136 (920M) [application/octet-stream]\n",
            "Saving to: ‘H3k79me2.bam’\n",
            "\n",
            "H3k79me2.bam        100%[===================>] 920.04M  48.8MB/s    in 20s     \n",
            "\n",
            "2022-03-19 19:54:59 (47.1 MB/s) - ‘H3k79me2.bam’ saved [964729136/964729136]\n",
            "\n",
            "--2022-03-19 19:54:59--  http://hgdownload.cse.ucsc.edu/goldenPath/hg19/encodeDCC/wgEncodeBroadHistone/wgEncodeBroadHistoneA549H3k09acEtoh02AlnRep1.bam\n",
            "Resolving hgdownload.cse.ucsc.edu (hgdownload.cse.ucsc.edu)... 128.114.119.163\n",
            "Connecting to hgdownload.cse.ucsc.edu (hgdownload.cse.ucsc.edu)|128.114.119.163|:80... connected.\n",
            "HTTP request sent, awaiting response... 200 OK\n",
            "Length: 1805271664 (1.7G) [application/octet-stream]\n",
            "Saving to: ‘H3k09ac.bam’\n",
            "\n",
            "H3k09ac.bam         100%[===================>]   1.68G  47.7MB/s    in 36s     \n",
            "\n",
            "2022-03-19 19:55:35 (47.4 MB/s) - ‘H3k09ac.bam’ saved [1805271664/1805271664]\n",
            "\n",
            "--2022-03-19 19:55:36--  http://hgdownload.cse.ucsc.edu/goldenPath/hg19/encodeDCC/wgEncodeBroadHistone/wgEncodeBroadHistoneA549H3k09me3Etoh02AlnRep1.bam\n",
            "Resolving hgdownload.cse.ucsc.edu (hgdownload.cse.ucsc.edu)... 128.114.119.163\n",
            "Connecting to hgdownload.cse.ucsc.edu (hgdownload.cse.ucsc.edu)|128.114.119.163|:80... connected.\n",
            "HTTP request sent, awaiting response... 200 OK\n",
            "Length: 3159610200 (2.9G) [application/octet-stream]\n",
            "Saving to: ‘H3k09me3.bam’\n",
            "\n",
            "H3k09me3.bam        100%[===================>]   2.94G  49.8MB/s    in 62s     \n",
            "\n",
            "2022-03-19 19:56:37 (48.9 MB/s) - ‘H3k09me3.bam’ saved [3159610200/3159610200]\n",
            "\n"
          ]
        }
      ],
      "source": [
        "!wget http://hgdownload.cse.ucsc.edu/goldenPath/hg19/encodeDCC/wgEncodeBroadHistone/wgEncodeBroadHistoneA549H2azDex100nmAlnRep1.bam -O H2az.bam\n",
        "!wget http://hgdownload.cse.ucsc.edu/goldenPath/hg19/encodeDCC/wgEncodeBroadHistone/wgEncodeBroadHistoneA549H3k27acDex100nmAlnRep1.bam -O H3k27ac.bam\n",
        "!wget http://hgdownload.cse.ucsc.edu/goldenPath/hg19/encodeDCC/wgEncodeBroadHistone/wgEncodeBroadHistoneA549H3k27me3Dex100nmAlnRep1.bam -O H3k27me3.bam \n",
        "!wget http://hgdownload.cse.ucsc.edu/goldenPath/hg19/encodeDCC/wgEncodeBroadHistone/wgEncodeBroadHistoneA549H3k36me3Dex100nmAlnRep1.bam -O H3k36me3.bam \n",
        "!wget http://hgdownload.cse.ucsc.edu/goldenPath/hg19/encodeDCC/wgEncodeBroadHistone/wgEncodeBroadHistoneA549H3k04me1Dex100nmAlnRep1.bam -O H3k04me1.bam\n",
        "!wget http://hgdownload.cse.ucsc.edu/goldenPath/hg19/encodeDCC/wgEncodeBroadHistone/wgEncodeBroadHistoneA549H3k04me2Dex100nmAlnRep1.bam -O H3k04me2.bam \n",
        "!wget http://hgdownload.cse.ucsc.edu/goldenPath/hg19/encodeDCC/wgEncodeBroadHistone/wgEncodeBroadHistoneA549H3k04me3Dex100nmAlnRep1.bam -O H3k04me3.bam \n",
        "!wget http://hgdownload.cse.ucsc.edu/goldenPath/hg19/encodeDCC/wgEncodeBroadHistone/wgEncodeBroadHistoneA549H3k79me2Dex100nmAlnRep1.bam -O H3k79me2.bam \n",
        "!wget http://hgdownload.cse.ucsc.edu/goldenPath/hg19/encodeDCC/wgEncodeBroadHistone/wgEncodeBroadHistoneA549H3k09acEtoh02AlnRep1.bam -O H3k09ac.bam \n",
        "!wget http://hgdownload.cse.ucsc.edu/goldenPath/hg19/encodeDCC/wgEncodeBroadHistone/wgEncodeBroadHistoneA549H3k09me3Etoh02AlnRep1.bam -O H3k09me3.bam "
      ]
    },
    {
      "cell_type": "code",
      "execution_count": 8,
      "metadata": {
        "colab": {
          "base_uri": "https://localhost:8080/"
        },
        "id": "PSWbbv8wcFUY",
        "outputId": "529729ff-b709-47ca-b32b-0831ebbae6ba"
      },
      "outputs": [
        {
          "name": "stdout",
          "output_type": "stream",
          "text": [
            "--2022-03-19 19:56:38--  http://hgdownload.cse.ucsc.edu/goldenPath/hg19/encodeDCC/wgEncodeBroadHistone/wgEncodeBroadHistoneA549ControlEtoh02AlnRep1.bam\n",
            "Resolving hgdownload.cse.ucsc.edu (hgdownload.cse.ucsc.edu)... 128.114.119.163\n",
            "Connecting to hgdownload.cse.ucsc.edu (hgdownload.cse.ucsc.edu)|128.114.119.163|:80... connected.\n",
            "HTTP request sent, awaiting response... 200 OK\n",
            "Length: 5555948382 (5.2G) [application/octet-stream]\n",
            "Saving to: ‘ControlEtoh02AlnRep1.bam’\n",
            "\n",
            "ControlEtoh02AlnRep 100%[===================>]   5.17G  41.1MB/s    in 2m 2s   \n",
            "\n",
            "2022-03-19 19:58:40 (43.5 MB/s) - ‘ControlEtoh02AlnRep1.bam’ saved [5555948382/5555948382]\n",
            "\n"
          ]
        }
      ],
      "source": [
        "!wget http://hgdownload.cse.ucsc.edu/goldenPath/hg19/encodeDCC/wgEncodeBroadHistone/wgEncodeBroadHistoneA549ControlEtoh02AlnRep1.bam -O ControlEtoh02AlnRep1.bam"
      ]
    },
    {
      "cell_type": "markdown",
      "metadata": {
        "id": "asjMJ26h79SY"
      },
      "source": [
        "* Вручную создаем текстовый файл cellmarkfiletable.txt, в котором указываем название типа клеток, разных гистоновых меток, а также соответствующие .bam файлы для эксперимента и контроля. Один и тот же контрольный файл .bam может быть использован для всех экспериментов.\n",
        "\n",
        "* Более подробно о содержании файла cellmarkfiletable.txt можно посмотреть в руководстве пользователя ChromHMM\n",
        "\n",
        "* Файл cellmarkfiletable.txt добавляем в github репозиторий для отчета"
      ]
    },
    {
      "cell_type": "code",
      "execution_count": 9,
      "metadata": {
        "id": "Jgk7seeCVlPU"
      },
      "outputs": [],
      "source": [
        "import os\n",
        "\n",
        "# !> cellmarkfiletable.txt\n",
        "control = 'ControlEtoh02AlnRep1.bam'\n",
        "\n",
        "with open(f'cellmarkfiletable.txt', 'a') as the_file:\n",
        "  for file in os.listdir():\n",
        "    if file[-3:] == 'bam' and \"Control\" not in file:\n",
        "      the_file.write(f'A549\\t{file[:-4]}\\t{file}\\t{control}\\n')"
      ]
    },
    {
      "cell_type": "markdown",
      "metadata": {
        "id": "WeoRL3rp728b"
      },
      "source": [
        "Запускаем ChromHMM с опцией BinarizeBam, чтобы конвертировать профили из ChIP-seq экспериментов (bam-файлы) в табличку из 0 и 1, т.е. чтобы сделать разбивку генома на условные интервалы (бины) длиной 200 п.о.\n",
        "Для 11 меток программа работает около 5 мин\n"
      ]
    },
    {
      "cell_type": "code",
      "execution_count": 10,
      "metadata": {
        "colab": {
          "base_uri": "https://localhost:8080/"
        },
        "id": "GcVBvuQZfzb8",
        "outputId": "4097e69d-12de-4017-96c9-604bde6408cf"
      },
      "outputs": [
        {
          "name": "stdout",
          "output_type": "stream",
          "text": [
            "Writing to file binarizedData/A549_chr1_binary.txt\n",
            "Writing to file binarizedData/A549_chr2_binary.txt\n",
            "Writing to file binarizedData/A549_chr3_binary.txt\n",
            "Writing to file binarizedData/A549_chr4_binary.txt\n",
            "Writing to file binarizedData/A549_chr5_binary.txt\n",
            "Writing to file binarizedData/A549_chr6_binary.txt\n",
            "Writing to file binarizedData/A549_chr7_binary.txt\n",
            "Writing to file binarizedData/A549_chrX_binary.txt\n",
            "Writing to file binarizedData/A549_chr8_binary.txt\n",
            "Writing to file binarizedData/A549_chr9_binary.txt\n",
            "Writing to file binarizedData/A549_chr10_binary.txt\n",
            "Writing to file binarizedData/A549_chr11_binary.txt\n",
            "Writing to file binarizedData/A549_chr12_binary.txt\n",
            "Writing to file binarizedData/A549_chr13_binary.txt\n",
            "Writing to file binarizedData/A549_chr14_binary.txt\n",
            "Writing to file binarizedData/A549_chr15_binary.txt\n",
            "Writing to file binarizedData/A549_chr16_binary.txt\n",
            "Writing to file binarizedData/A549_chr17_binary.txt\n",
            "Writing to file binarizedData/A549_chr18_binary.txt\n",
            "Writing to file binarizedData/A549_chr20_binary.txt\n",
            "Writing to file binarizedData/A549_chrY_binary.txt\n",
            "Writing to file binarizedData/A549_chr19_binary.txt\n",
            "Writing to file binarizedData/A549_chr22_binary.txt\n",
            "Writing to file binarizedData/A549_chr21_binary.txt\n",
            "Writing to file binarizedData/A549_chrM_binary.txt\n"
          ]
        }
      ],
      "source": [
        "!java -mx5000M -jar /content/ChromHMM/ChromHMM.jar BinarizeBam -b 200 \\\n",
        "  /content/ChromHMM/CHROMSIZES/hg19.txt /content/ cellmarkfiletable.txt binarizedData"
      ]
    },
    {
      "cell_type": "markdown",
      "metadata": {
        "id": "Yo11TtNG8SXU"
      },
      "source": [
        "Запускаем ChromHMM с опцией LearnModel (см. руководство пользователя), которая автоматически определит параметры N разных эпигенетических типов с наиболее выраженными наборами гистоновых меток и присвоит каждому геномному интервалу определенный эпигенетический тип. Количество разных эпигенетических типов (или состояний) выбираете сами (например 10 штук).\n",
        "Не забудьте, что мы работаем с версией референсного генома человека hg19\n",
        "Для 11 меток программа работает около 10 минут\n"
      ]
    },
    {
      "cell_type": "code",
      "execution_count": 11,
      "metadata": {
        "colab": {
          "base_uri": "https://localhost:8080/"
        },
        "id": "AJcFdupvogYN",
        "outputId": "6e79fc75-5a49-4ee0-b3b7-81ee263ddbd9"
      },
      "outputs": [
        {
          "name": "stdout",
          "output_type": "stream",
          "text": [
            "Writing to file /content/data/transitions_15.txt\n",
            "Writing to file /content/data/emissions_15.txt\n",
            "Writing to file /content/data/emissions_15.svg\n",
            "Writing to file /content/data/emissions_15.png\n",
            "Writing to file /content/data/transitions_15.png\n",
            "Writing to file /content/data/transitions_15.svg\n",
            "Writing to file /content/data/model_15.txt\n",
            " Iteration  Estimated Log Likelihood     Change    Total Time (secs)\n",
            "         1             -12249778.786          -                 26.6\n",
            "         2             -10590773.877 1659004.909                 54.0\n",
            "         3             -10140389.573 450384.303                 74.7\n",
            "         4              -9896223.618 244165.955                 98.7\n",
            "         5              -9766746.100 129477.518                118.4\n",
            "         6              -9683727.938  83018.162                140.1\n",
            "         7              -9638425.797  45302.141                159.8\n",
            "         8              -9613194.080  25231.717                179.4\n",
            "         9              -9601329.690  11864.390                199.4\n",
            "        10              -9595566.893   5762.797                219.3\n",
            "        11              -9591843.153   3723.740                239.1\n",
            "        12              -9588715.544   3127.609                259.2\n",
            "        13              -9585379.391   3336.153                281.9\n",
            "        14              -9581721.612   3657.779                302.9\n",
            "        15              -9578183.256   3538.356                323.7\n",
            "        16              -9575015.020   3168.237                344.5\n",
            "        17              -9572081.822   2933.197                365.2\n",
            "        18              -9569128.344   2953.478                389.3\n",
            "        19              -9565942.272   3186.072                410.0\n",
            "        20              -9562535.490   3406.782                430.9\n",
            "        21              -9559579.478   2956.013                451.5\n",
            "        22              -9557631.180   1948.297                472.2\n",
            "        23              -9556484.396   1146.785                492.6\n",
            "        24              -9555766.974    717.422                513.2\n",
            "        25              -9555262.332    504.642                533.7\n",
            "        26              -9554871.390    390.942                554.2\n",
            "        27              -9554542.260    329.130                574.8\n",
            "        28              -9554239.713    302.546                595.6\n",
            "        29              -9553934.669    305.044                616.4\n",
            "        30              -9553613.024    321.646                637.2\n",
            "        31              -9553273.518    339.505                658.0\n",
            "        32              -9552906.274    367.244                679.0\n",
            "        33              -9552498.177    408.097                700.2\n",
            "        34              -9552012.900    485.277                721.0\n",
            "        35              -9551371.664    641.235                741.7\n",
            "        36              -9550435.888    935.776                762.4\n",
            "        37              -9549090.864   1345.024                783.4\n",
            "        38              -9547707.362   1383.502                804.3\n",
            "        39              -9547014.007    693.355                825.2\n",
            "        40              -9546803.572    210.435                846.2\n",
            "        41              -9546724.647     78.924                867.3\n",
            "        42              -9546683.397     41.250                888.4\n",
            "        43              -9546657.501     25.896                909.5\n",
            "        44              -9546641.086     16.415                930.8\n",
            "        45              -9546630.279     10.807                951.8\n",
            "        46              -9546622.914      7.365                972.8\n",
            "        47              -9546617.784      5.130                996.8\n",
            "        48              -9546614.157      3.627               1017.9\n",
            "        49              -9546611.562      2.595               1039.1\n",
            "        50              -9546609.687      1.875               1060.3\n",
            "        51              -9546608.320      1.367               1081.5\n",
            "        52              -9546607.314      1.006               1102.9\n",
            "        53              -9546606.566      0.748               1124.2\n",
            "        54              -9546606.004      0.562               1145.4\n",
            "        55              -9546605.582      0.423               1166.6\n",
            "        56              -9546605.259      0.323               1187.8\n",
            "        57              -9546605.011      0.248               1209.0\n",
            "        58              -9546604.819      0.192               1230.2\n",
            "        59              -9546604.668      0.151               1251.4\n",
            "        60              -9546604.550      0.118               1272.7\n",
            "        61              -9546604.456      0.094               1294.1\n",
            "        62              -9546604.380      0.076               1315.3\n",
            "        63              -9546604.319      0.061               1336.6\n",
            "        64              -9546604.269      0.050               1358.1\n",
            "        65              -9546604.228      0.041               1379.2\n",
            "        66              -9546604.194      0.034               1400.3\n",
            "        67              -9546604.165      0.029               1421.5\n",
            "        68              -9546604.141      0.024               1443.4\n",
            "        69              -9546604.121      0.021               1464.5\n",
            "        70              -9546604.103      0.018               1485.7\n",
            "        71              -9546604.087      0.016               1506.8\n",
            "        72              -9546604.074      0.013               1528.3\n",
            "        73              -9546604.062      0.012               1549.4\n",
            "        74              -9546604.052      0.010               1570.5\n",
            "        75              -9546604.042      0.010               1591.6\n",
            "        76              -9546604.034      0.008               1612.8\n",
            "        77              -9546604.026      0.008               1633.9\n",
            "        78              -9546604.019      0.007               1655.0\n",
            "        79              -9546604.012      0.007               1676.1\n",
            "        80              -9546604.006      0.006               1697.4\n",
            "        81              -9546604.001      0.006               1718.5\n",
            "        82              -9546603.996      0.005               1739.9\n",
            "        83              -9546603.991      0.005               1761.1\n",
            "        84              -9546603.987      0.004               1782.2\n",
            "        85              -9546603.982      0.004               1803.5\n",
            "        86              -9546603.978      0.004               1824.7\n",
            "        87              -9546603.975      0.004               1845.9\n",
            "        88              -9546603.971      0.004               1867.0\n",
            "        89              -9546603.968      0.003               1888.2\n",
            "        90              -9546603.965      0.003               1909.3\n",
            "        91              -9546603.962      0.003               1930.5\n",
            "        92              -9546603.959      0.003               1951.6\n",
            "        93              -9546603.957      0.002               1972.6\n",
            "        94              -9546603.954      0.003               1993.7\n",
            "        95              -9546603.952      0.002               2018.3\n",
            "        96              -9546603.949      0.002               2042.7\n",
            "        97              -9546603.947      0.002               2064.3\n",
            "        98              -9546603.945      0.002               2085.4\n",
            "        99              -9546603.943      0.002               2106.6\n",
            "       100              -9546603.941      0.002               2127.8\n",
            "       101              -9546603.940      0.002               2148.8\n",
            "       102              -9546603.938      0.002               2169.8\n",
            "       103              -9546603.936      0.002               2191.1\n",
            "       104              -9546603.934      0.002               2212.1\n",
            "       105              -9546603.933      0.002               2233.2\n",
            "       106              -9546603.932      0.001               2254.2\n",
            "Writing to file /content/data/A549_15_segments.bed\n",
            "Writing to file /content/data/A549_15_dense.bed\n",
            "Writing to file /content/data/A549_15_expanded.bed\n",
            "Writing to file /content/data/A549_15_overlap.txt\n",
            "Writing to file /content/data/A549_15_overlap.png\n",
            "Writing to file /content/data/A549_15_overlap.svg\n",
            "Writing to file /content/data/A549_15_RefSeqTES_neighborhood.txt\n",
            "Writing to file /content/data/A549_15_RefSeqTES_neighborhood.png\n",
            "Writing to file /content/data/A549_15_RefSeqTES_neighborhood.svg\n",
            "Writing to file /content/data/A549_15_RefSeqTSS_neighborhood.txt\n",
            "Writing to file /content/data/A549_15_RefSeqTSS_neighborhood.png\n",
            "Writing to file /content/data/A549_15_RefSeqTSS_neighborhood.svg\n",
            "Warning could not automatically open in a browser /content/data/webpage_15.html\n"
          ]
        }
      ],
      "source": [
        "!java -mx5000M -jar /content/ChromHMM/ChromHMM.jar LearnModel -b 200 \\\n",
        "  /content/binarizedData/ /content/data 10 hg19"
      ]
    },
    {
      "cell_type": "markdown",
      "metadata": {
        "id": "7yuCmmw-gsFC"
      },
      "source": [
        "В результате выполнения команды LearnModel будет создан набор файлов (в том числе HTML страничка) в папке выдачи, которая была указана при запуске. Скачиваем эту папку себе на копьютер и открываем HTML файл.\n",
        "\n",
        "Дальнейшие инстркции -- см. в описании ДЗ"
      ]
    },
    {
      "cell_type": "code",
      "execution_count": 43,
      "metadata": {
        "colab": {
          "base_uri": "https://localhost:8080/"
        },
        "id": "WEwVsTg49h3p",
        "outputId": "bdc9064a-fcd7-4fad-fbc6-ac5a782cd28b"
      },
      "outputs": [
        {
          "name": "stdout",
          "output_type": "stream",
          "text": [
            "Cloning into 'hse_hw3_chromhmm'...\n",
            "remote: Enumerating objects: 29, done.\u001b[K\n",
            "remote: Counting objects:   3% (1/29)\u001b[K\rremote: Counting objects:   6% (2/29)\u001b[K\rremote: Counting objects:  10% (3/29)\u001b[K\rremote: Counting objects:  13% (4/29)\u001b[K\rremote: Counting objects:  17% (5/29)\u001b[K\rremote: Counting objects:  20% (6/29)\u001b[K\rremote: Counting objects:  24% (7/29)\u001b[K\rremote: Counting objects:  27% (8/29)\u001b[K\rremote: Counting objects:  31% (9/29)\u001b[K\rremote: Counting objects:  34% (10/29)\u001b[K\rremote: Counting objects:  37% (11/29)\u001b[K\rremote: Counting objects:  41% (12/29)\u001b[K\rremote: Counting objects:  44% (13/29)\u001b[K\rremote: Counting objects:  48% (14/29)\u001b[K\rremote: Counting objects:  51% (15/29)\u001b[K\rremote: Counting objects:  55% (16/29)\u001b[K\rremote: Counting objects:  58% (17/29)\u001b[K\rremote: Counting objects:  62% (18/29)\u001b[K\rremote: Counting objects:  65% (19/29)\u001b[K\rremote: Counting objects:  68% (20/29)\u001b[K\rremote: Counting objects:  72% (21/29)\u001b[K\rremote: Counting objects:  75% (22/29)\u001b[K\rremote: Counting objects:  79% (23/29)\u001b[K\rremote: Counting objects:  82% (24/29)\u001b[K\rremote: Counting objects:  86% (25/29)\u001b[K\rremote: Counting objects:  89% (26/29)\u001b[K\rremote: Counting objects:  93% (27/29)\u001b[K\rremote: Counting objects:  96% (28/29)\u001b[K\rremote: Counting objects: 100% (29/29)\u001b[K\rremote: Counting objects: 100% (29/29), done.\u001b[K\n",
            "remote: Compressing objects: 100% (25/25), done.\u001b[K\n",
            "remote: Total 29 (delta 1), reused 23 (delta 1), pack-reused 0\u001b[K\n",
            "Unpacking objects: 100% (29/29), done.\n"
          ]
        }
      ],
      "source": [
        "! git clone https://github.com/t0pcup/hse_hw3_chromhmm.git"
      ]
    },
    {
      "cell_type": "code",
      "execution_count": 31,
      "metadata": {
        "colab": {
          "base_uri": "https://localhost:8080/"
        },
        "id": "dy7y4HdvzhrQ",
        "outputId": "31eb11a6-48e8-4320-ae5c-70d3beaa451e"
      },
      "outputs": [
        {
          "name": "stdout",
          "output_type": "stream",
          "text": [
            "# github.com:22 SSH-2.0-babeld-4f04c79d\n"
          ]
        }
      ],
      "source": [
        "! ssh-keyscan -t rsa github.com >> ~/.ssh/known_hosts"
      ]
    },
    {
      "cell_type": "code",
      "execution_count": 48,
      "metadata": {
        "id": "4UQolPZw_KNQ"
      },
      "outputs": [],
      "source": [
        "# ! cp /content/data/* /content/hse_hw3_chromhmm/results/\n",
        "# ! cp /content/cellmarkfiletable* /content/hse_hw3_chromhmm/"
      ]
    },
    {
      "cell_type": "code",
      "execution_count": 45,
      "metadata": {
        "id": "53_WCEujctql"
      },
      "outputs": [],
      "source": [
        "! git -C hse_hw3_chromhmm add ."
      ]
    },
    {
      "cell_type": "code",
      "execution_count": 46,
      "metadata": {
        "colab": {
          "base_uri": "https://localhost:8080/"
        },
        "id": "EezSv56M4Am0",
        "outputId": "40b2620b-3be6-4441-f305-337d6c4792c7"
      },
      "outputs": [
        {
          "name": "stdout",
          "output_type": "stream",
          "text": [
            "[main b45cd78] res\n",
            " 5 files changed, 647 insertions(+), 637 deletions(-)\n",
            " create mode 100644 cellmarkfiletable.txt\n",
            " rewrite results/emissions_15.png (98%)\n",
            " rewrite results/emissions_15.svg (76%)\n",
            " rewrite results/model_15.txt (68%)\n"
          ]
        }
      ],
      "source": [
        "! git -C hse_hw3_chromhmm commit -m \"res\" "
      ]
    },
    {
      "cell_type": "code",
      "execution_count": 47,
      "metadata": {
        "colab": {
          "base_uri": "https://localhost:8080/"
        },
        "id": "aWOrDzq543PD",
        "outputId": "fe2a8ca7-9829-407e-c6c5-0310873d8e72"
      },
      "outputs": [
        {
          "name": "stdout",
          "output_type": "stream",
          "text": [
            "fatal: could not read Username for 'https://github.com': No such device or address\n"
          ]
        }
      ],
      "source": [
        "! git -C hse_hw3_chromhmm push"
      ]
    },
    {
      "cell_type": "code",
      "execution_count": 6,
      "metadata": {
        "id": "zK3Lt2Jjc3hh"
      },
      "outputs": [],
      "source": [
        "! rm /content/sample_data/*\n",
        "! rmdir /content/sample_data"
      ]
    },
    {
      "cell_type": "code",
      "execution_count": 54,
      "metadata": {
        "colab": {
          "base_uri": "https://localhost:8080/",
          "height": 17
        },
        "id": "U01ojy9691Yb",
        "outputId": "21ebbfb3-4bab-40a3-991e-660b6923db4e"
      },
      "outputs": [
        {
          "data": {
            "application/javascript": "\n    async function download(id, filename, size) {\n      if (!google.colab.kernel.accessAllowed) {\n        return;\n      }\n      const div = document.createElement('div');\n      const label = document.createElement('label');\n      label.textContent = `Downloading \"${filename}\": `;\n      div.appendChild(label);\n      const progress = document.createElement('progress');\n      progress.max = size;\n      div.appendChild(progress);\n      document.body.appendChild(div);\n\n      const buffers = [];\n      let downloaded = 0;\n\n      const channel = await google.colab.kernel.comms.open(id);\n      // Send a message to notify the kernel that we're ready.\n      channel.send({})\n\n      for await (const message of channel.messages) {\n        // Send a message to notify the kernel that we're ready.\n        channel.send({})\n        if (message.buffers) {\n          for (const buffer of message.buffers) {\n            buffers.push(buffer);\n            downloaded += buffer.byteLength;\n            progress.value = downloaded;\n          }\n        }\n      }\n      const blob = new Blob(buffers, {type: 'application/binary'});\n      const a = document.createElement('a');\n      a.href = window.URL.createObjectURL(blob);\n      a.download = filename;\n      div.appendChild(a);\n      a.click();\n      div.remove();\n    }\n  ",
            "text/plain": [
              "<IPython.core.display.Javascript object>"
            ]
          },
          "metadata": {},
          "output_type": "display_data"
        },
        {
          "data": {
            "application/javascript": "download(\"download_485d0ffa-70d7-4847-bc0e-61ee564d1ad2\", \"cellmarkfiletable.txt\", 508)",
            "text/plain": [
              "<IPython.core.display.Javascript object>"
            ]
          },
          "metadata": {},
          "output_type": "display_data"
        },
        {
          "data": {
            "application/javascript": "\n    async function download(id, filename, size) {\n      if (!google.colab.kernel.accessAllowed) {\n        return;\n      }\n      const div = document.createElement('div');\n      const label = document.createElement('label');\n      label.textContent = `Downloading \"${filename}\": `;\n      div.appendChild(label);\n      const progress = document.createElement('progress');\n      progress.max = size;\n      div.appendChild(progress);\n      document.body.appendChild(div);\n\n      const buffers = [];\n      let downloaded = 0;\n\n      const channel = await google.colab.kernel.comms.open(id);\n      // Send a message to notify the kernel that we're ready.\n      channel.send({})\n\n      for await (const message of channel.messages) {\n        // Send a message to notify the kernel that we're ready.\n        channel.send({})\n        if (message.buffers) {\n          for (const buffer of message.buffers) {\n            buffers.push(buffer);\n            downloaded += buffer.byteLength;\n            progress.value = downloaded;\n          }\n        }\n      }\n      const blob = new Blob(buffers, {type: 'application/binary'});\n      const a = document.createElement('a');\n      a.href = window.URL.createObjectURL(blob);\n      a.download = filename;\n      div.appendChild(a);\n      a.click();\n      div.remove();\n    }\n  ",
            "text/plain": [
              "<IPython.core.display.Javascript object>"
            ]
          },
          "metadata": {},
          "output_type": "display_data"
        },
        {
          "data": {
            "application/javascript": "download(\"download_05317286-514e-46d2-b5d8-e4bd29b3c424\", \"A549_15_overlap.png\", 29458)",
            "text/plain": [
              "<IPython.core.display.Javascript object>"
            ]
          },
          "metadata": {},
          "output_type": "display_data"
        },
        {
          "data": {
            "application/javascript": "\n    async function download(id, filename, size) {\n      if (!google.colab.kernel.accessAllowed) {\n        return;\n      }\n      const div = document.createElement('div');\n      const label = document.createElement('label');\n      label.textContent = `Downloading \"${filename}\": `;\n      div.appendChild(label);\n      const progress = document.createElement('progress');\n      progress.max = size;\n      div.appendChild(progress);\n      document.body.appendChild(div);\n\n      const buffers = [];\n      let downloaded = 0;\n\n      const channel = await google.colab.kernel.comms.open(id);\n      // Send a message to notify the kernel that we're ready.\n      channel.send({})\n\n      for await (const message of channel.messages) {\n        // Send a message to notify the kernel that we're ready.\n        channel.send({})\n        if (message.buffers) {\n          for (const buffer of message.buffers) {\n            buffers.push(buffer);\n            downloaded += buffer.byteLength;\n            progress.value = downloaded;\n          }\n        }\n      }\n      const blob = new Blob(buffers, {type: 'application/binary'});\n      const a = document.createElement('a');\n      a.href = window.URL.createObjectURL(blob);\n      a.download = filename;\n      div.appendChild(a);\n      a.click();\n      div.remove();\n    }\n  ",
            "text/plain": [
              "<IPython.core.display.Javascript object>"
            ]
          },
          "metadata": {},
          "output_type": "display_data"
        },
        {
          "data": {
            "application/javascript": "download(\"download_acdf9e03-f880-4fc1-8141-b675f0006748\", \"A549_15_dense.bed\", 41244742)",
            "text/plain": [
              "<IPython.core.display.Javascript object>"
            ]
          },
          "metadata": {},
          "output_type": "display_data"
        },
        {
          "data": {
            "application/javascript": "\n    async function download(id, filename, size) {\n      if (!google.colab.kernel.accessAllowed) {\n        return;\n      }\n      const div = document.createElement('div');\n      const label = document.createElement('label');\n      label.textContent = `Downloading \"${filename}\": `;\n      div.appendChild(label);\n      const progress = document.createElement('progress');\n      progress.max = size;\n      div.appendChild(progress);\n      document.body.appendChild(div);\n\n      const buffers = [];\n      let downloaded = 0;\n\n      const channel = await google.colab.kernel.comms.open(id);\n      // Send a message to notify the kernel that we're ready.\n      channel.send({})\n\n      for await (const message of channel.messages) {\n        // Send a message to notify the kernel that we're ready.\n        channel.send({})\n        if (message.buffers) {\n          for (const buffer of message.buffers) {\n            buffers.push(buffer);\n            downloaded += buffer.byteLength;\n            progress.value = downloaded;\n          }\n        }\n      }\n      const blob = new Blob(buffers, {type: 'application/binary'});\n      const a = document.createElement('a');\n      a.href = window.URL.createObjectURL(blob);\n      a.download = filename;\n      div.appendChild(a);\n      a.click();\n      div.remove();\n    }\n  ",
            "text/plain": [
              "<IPython.core.display.Javascript object>"
            ]
          },
          "metadata": {},
          "output_type": "display_data"
        },
        {
          "data": {
            "application/javascript": "download(\"download_be0bc6aa-382c-490f-821b-0d9f34b80209\", \"A549_15_RefSeqTSS_neighborhood.svg\", 169878)",
            "text/plain": [
              "<IPython.core.display.Javascript object>"
            ]
          },
          "metadata": {},
          "output_type": "display_data"
        },
        {
          "data": {
            "application/javascript": "\n    async function download(id, filename, size) {\n      if (!google.colab.kernel.accessAllowed) {\n        return;\n      }\n      const div = document.createElement('div');\n      const label = document.createElement('label');\n      label.textContent = `Downloading \"${filename}\": `;\n      div.appendChild(label);\n      const progress = document.createElement('progress');\n      progress.max = size;\n      div.appendChild(progress);\n      document.body.appendChild(div);\n\n      const buffers = [];\n      let downloaded = 0;\n\n      const channel = await google.colab.kernel.comms.open(id);\n      // Send a message to notify the kernel that we're ready.\n      channel.send({})\n\n      for await (const message of channel.messages) {\n        // Send a message to notify the kernel that we're ready.\n        channel.send({})\n        if (message.buffers) {\n          for (const buffer of message.buffers) {\n            buffers.push(buffer);\n            downloaded += buffer.byteLength;\n            progress.value = downloaded;\n          }\n        }\n      }\n      const blob = new Blob(buffers, {type: 'application/binary'});\n      const a = document.createElement('a');\n      a.href = window.URL.createObjectURL(blob);\n      a.download = filename;\n      div.appendChild(a);\n      a.click();\n      div.remove();\n    }\n  ",
            "text/plain": [
              "<IPython.core.display.Javascript object>"
            ]
          },
          "metadata": {},
          "output_type": "display_data"
        },
        {
          "data": {
            "application/javascript": "download(\"download_a83d7ce8-e5b7-4de1-b8c5-d33575d2eaf7\", \"webpage_15.html\", 1961)",
            "text/plain": [
              "<IPython.core.display.Javascript object>"
            ]
          },
          "metadata": {},
          "output_type": "display_data"
        },
        {
          "data": {
            "application/javascript": "\n    async function download(id, filename, size) {\n      if (!google.colab.kernel.accessAllowed) {\n        return;\n      }\n      const div = document.createElement('div');\n      const label = document.createElement('label');\n      label.textContent = `Downloading \"${filename}\": `;\n      div.appendChild(label);\n      const progress = document.createElement('progress');\n      progress.max = size;\n      div.appendChild(progress);\n      document.body.appendChild(div);\n\n      const buffers = [];\n      let downloaded = 0;\n\n      const channel = await google.colab.kernel.comms.open(id);\n      // Send a message to notify the kernel that we're ready.\n      channel.send({})\n\n      for await (const message of channel.messages) {\n        // Send a message to notify the kernel that we're ready.\n        channel.send({})\n        if (message.buffers) {\n          for (const buffer of message.buffers) {\n            buffers.push(buffer);\n            downloaded += buffer.byteLength;\n            progress.value = downloaded;\n          }\n        }\n      }\n      const blob = new Blob(buffers, {type: 'application/binary'});\n      const a = document.createElement('a');\n      a.href = window.URL.createObjectURL(blob);\n      a.download = filename;\n      div.appendChild(a);\n      a.click();\n      div.remove();\n    }\n  ",
            "text/plain": [
              "<IPython.core.display.Javascript object>"
            ]
          },
          "metadata": {},
          "output_type": "display_data"
        },
        {
          "data": {
            "application/javascript": "download(\"download_c27b1463-9785-4da0-adba-9fb3feb66669\", \"A549_15_RefSeqTSS_neighborhood.txt\", 2737)",
            "text/plain": [
              "<IPython.core.display.Javascript object>"
            ]
          },
          "metadata": {},
          "output_type": "display_data"
        },
        {
          "data": {
            "application/javascript": "\n    async function download(id, filename, size) {\n      if (!google.colab.kernel.accessAllowed) {\n        return;\n      }\n      const div = document.createElement('div');\n      const label = document.createElement('label');\n      label.textContent = `Downloading \"${filename}\": `;\n      div.appendChild(label);\n      const progress = document.createElement('progress');\n      progress.max = size;\n      div.appendChild(progress);\n      document.body.appendChild(div);\n\n      const buffers = [];\n      let downloaded = 0;\n\n      const channel = await google.colab.kernel.comms.open(id);\n      // Send a message to notify the kernel that we're ready.\n      channel.send({})\n\n      for await (const message of channel.messages) {\n        // Send a message to notify the kernel that we're ready.\n        channel.send({})\n        if (message.buffers) {\n          for (const buffer of message.buffers) {\n            buffers.push(buffer);\n            downloaded += buffer.byteLength;\n            progress.value = downloaded;\n          }\n        }\n      }\n      const blob = new Blob(buffers, {type: 'application/binary'});\n      const a = document.createElement('a');\n      a.href = window.URL.createObjectURL(blob);\n      a.download = filename;\n      div.appendChild(a);\n      a.click();\n      div.remove();\n    }\n  ",
            "text/plain": [
              "<IPython.core.display.Javascript object>"
            ]
          },
          "metadata": {},
          "output_type": "display_data"
        },
        {
          "data": {
            "application/javascript": "download(\"download_1063132a-f4a4-4ff5-8f76-5cb134e86ef8\", \"A549_15_overlap.svg\", 160308)",
            "text/plain": [
              "<IPython.core.display.Javascript object>"
            ]
          },
          "metadata": {},
          "output_type": "display_data"
        },
        {
          "data": {
            "application/javascript": "\n    async function download(id, filename, size) {\n      if (!google.colab.kernel.accessAllowed) {\n        return;\n      }\n      const div = document.createElement('div');\n      const label = document.createElement('label');\n      label.textContent = `Downloading \"${filename}\": `;\n      div.appendChild(label);\n      const progress = document.createElement('progress');\n      progress.max = size;\n      div.appendChild(progress);\n      document.body.appendChild(div);\n\n      const buffers = [];\n      let downloaded = 0;\n\n      const channel = await google.colab.kernel.comms.open(id);\n      // Send a message to notify the kernel that we're ready.\n      channel.send({})\n\n      for await (const message of channel.messages) {\n        // Send a message to notify the kernel that we're ready.\n        channel.send({})\n        if (message.buffers) {\n          for (const buffer of message.buffers) {\n            buffers.push(buffer);\n            downloaded += buffer.byteLength;\n            progress.value = downloaded;\n          }\n        }\n      }\n      const blob = new Blob(buffers, {type: 'application/binary'});\n      const a = document.createElement('a');\n      a.href = window.URL.createObjectURL(blob);\n      a.download = filename;\n      div.appendChild(a);\n      a.click();\n      div.remove();\n    }\n  ",
            "text/plain": [
              "<IPython.core.display.Javascript object>"
            ]
          },
          "metadata": {},
          "output_type": "display_data"
        },
        {
          "data": {
            "application/javascript": "download(\"download_cfa32b96-96e2-4e07-a433-dc88295eb5e1\", \"A549_15_RefSeqTES_neighborhood.png\", 36026)",
            "text/plain": [
              "<IPython.core.display.Javascript object>"
            ]
          },
          "metadata": {},
          "output_type": "display_data"
        },
        {
          "data": {
            "application/javascript": "\n    async function download(id, filename, size) {\n      if (!google.colab.kernel.accessAllowed) {\n        return;\n      }\n      const div = document.createElement('div');\n      const label = document.createElement('label');\n      label.textContent = `Downloading \"${filename}\": `;\n      div.appendChild(label);\n      const progress = document.createElement('progress');\n      progress.max = size;\n      div.appendChild(progress);\n      document.body.appendChild(div);\n\n      const buffers = [];\n      let downloaded = 0;\n\n      const channel = await google.colab.kernel.comms.open(id);\n      // Send a message to notify the kernel that we're ready.\n      channel.send({})\n\n      for await (const message of channel.messages) {\n        // Send a message to notify the kernel that we're ready.\n        channel.send({})\n        if (message.buffers) {\n          for (const buffer of message.buffers) {\n            buffers.push(buffer);\n            downloaded += buffer.byteLength;\n            progress.value = downloaded;\n          }\n        }\n      }\n      const blob = new Blob(buffers, {type: 'application/binary'});\n      const a = document.createElement('a');\n      a.href = window.URL.createObjectURL(blob);\n      a.download = filename;\n      div.appendChild(a);\n      a.click();\n      div.remove();\n    }\n  ",
            "text/plain": [
              "<IPython.core.display.Javascript object>"
            ]
          },
          "metadata": {},
          "output_type": "display_data"
        },
        {
          "data": {
            "application/javascript": "download(\"download_dd36bfd6-3f05-4a49-87d2-77f433b33e7f\", \"A549_15_RefSeqTES_neighborhood.txt\", 2683)",
            "text/plain": [
              "<IPython.core.display.Javascript object>"
            ]
          },
          "metadata": {},
          "output_type": "display_data"
        },
        {
          "data": {
            "application/javascript": "\n    async function download(id, filename, size) {\n      if (!google.colab.kernel.accessAllowed) {\n        return;\n      }\n      const div = document.createElement('div');\n      const label = document.createElement('label');\n      label.textContent = `Downloading \"${filename}\": `;\n      div.appendChild(label);\n      const progress = document.createElement('progress');\n      progress.max = size;\n      div.appendChild(progress);\n      document.body.appendChild(div);\n\n      const buffers = [];\n      let downloaded = 0;\n\n      const channel = await google.colab.kernel.comms.open(id);\n      // Send a message to notify the kernel that we're ready.\n      channel.send({})\n\n      for await (const message of channel.messages) {\n        // Send a message to notify the kernel that we're ready.\n        channel.send({})\n        if (message.buffers) {\n          for (const buffer of message.buffers) {\n            buffers.push(buffer);\n            downloaded += buffer.byteLength;\n            progress.value = downloaded;\n          }\n        }\n      }\n      const blob = new Blob(buffers, {type: 'application/binary'});\n      const a = document.createElement('a');\n      a.href = window.URL.createObjectURL(blob);\n      a.download = filename;\n      div.appendChild(a);\n      a.click();\n      div.remove();\n    }\n  ",
            "text/plain": [
              "<IPython.core.display.Javascript object>"
            ]
          },
          "metadata": {},
          "output_type": "display_data"
        },
        {
          "data": {
            "application/javascript": "download(\"download_38960c23-fc6d-43de-a03c-c6d6e4bc0390\", \"emissions_15.txt\", 3189)",
            "text/plain": [
              "<IPython.core.display.Javascript object>"
            ]
          },
          "metadata": {},
          "output_type": "display_data"
        },
        {
          "data": {
            "application/javascript": "\n    async function download(id, filename, size) {\n      if (!google.colab.kernel.accessAllowed) {\n        return;\n      }\n      const div = document.createElement('div');\n      const label = document.createElement('label');\n      label.textContent = `Downloading \"${filename}\": `;\n      div.appendChild(label);\n      const progress = document.createElement('progress');\n      progress.max = size;\n      div.appendChild(progress);\n      document.body.appendChild(div);\n\n      const buffers = [];\n      let downloaded = 0;\n\n      const channel = await google.colab.kernel.comms.open(id);\n      // Send a message to notify the kernel that we're ready.\n      channel.send({})\n\n      for await (const message of channel.messages) {\n        // Send a message to notify the kernel that we're ready.\n        channel.send({})\n        if (message.buffers) {\n          for (const buffer of message.buffers) {\n            buffers.push(buffer);\n            downloaded += buffer.byteLength;\n            progress.value = downloaded;\n          }\n        }\n      }\n      const blob = new Blob(buffers, {type: 'application/binary'});\n      const a = document.createElement('a');\n      a.href = window.URL.createObjectURL(blob);\n      a.download = filename;\n      div.appendChild(a);\n      a.click();\n      div.remove();\n    }\n  ",
            "text/plain": [
              "<IPython.core.display.Javascript object>"
            ]
          },
          "metadata": {},
          "output_type": "display_data"
        },
        {
          "data": {
            "application/javascript": "download(\"download_e305d0bd-04f9-4f6e-a150-175e1d177bfb\", \"A549_15_RefSeqTES_neighborhood.svg\", 168558)",
            "text/plain": [
              "<IPython.core.display.Javascript object>"
            ]
          },
          "metadata": {},
          "output_type": "display_data"
        },
        {
          "data": {
            "application/javascript": "\n    async function download(id, filename, size) {\n      if (!google.colab.kernel.accessAllowed) {\n        return;\n      }\n      const div = document.createElement('div');\n      const label = document.createElement('label');\n      label.textContent = `Downloading \"${filename}\": `;\n      div.appendChild(label);\n      const progress = document.createElement('progress');\n      progress.max = size;\n      div.appendChild(progress);\n      document.body.appendChild(div);\n\n      const buffers = [];\n      let downloaded = 0;\n\n      const channel = await google.colab.kernel.comms.open(id);\n      // Send a message to notify the kernel that we're ready.\n      channel.send({})\n\n      for await (const message of channel.messages) {\n        // Send a message to notify the kernel that we're ready.\n        channel.send({})\n        if (message.buffers) {\n          for (const buffer of message.buffers) {\n            buffers.push(buffer);\n            downloaded += buffer.byteLength;\n            progress.value = downloaded;\n          }\n        }\n      }\n      const blob = new Blob(buffers, {type: 'application/binary'});\n      const a = document.createElement('a');\n      a.href = window.URL.createObjectURL(blob);\n      a.download = filename;\n      div.appendChild(a);\n      a.click();\n      div.remove();\n    }\n  ",
            "text/plain": [
              "<IPython.core.display.Javascript object>"
            ]
          },
          "metadata": {},
          "output_type": "display_data"
        },
        {
          "data": {
            "application/javascript": "download(\"download_04a0395b-5116-4f73-9b37-bf6b03cd3930\", \"A549_15_RefSeqTSS_neighborhood.png\", 32485)",
            "text/plain": [
              "<IPython.core.display.Javascript object>"
            ]
          },
          "metadata": {},
          "output_type": "display_data"
        },
        {
          "data": {
            "application/javascript": "\n    async function download(id, filename, size) {\n      if (!google.colab.kernel.accessAllowed) {\n        return;\n      }\n      const div = document.createElement('div');\n      const label = document.createElement('label');\n      label.textContent = `Downloading \"${filename}\": `;\n      div.appendChild(label);\n      const progress = document.createElement('progress');\n      progress.max = size;\n      div.appendChild(progress);\n      document.body.appendChild(div);\n\n      const buffers = [];\n      let downloaded = 0;\n\n      const channel = await google.colab.kernel.comms.open(id);\n      // Send a message to notify the kernel that we're ready.\n      channel.send({})\n\n      for await (const message of channel.messages) {\n        // Send a message to notify the kernel that we're ready.\n        channel.send({})\n        if (message.buffers) {\n          for (const buffer of message.buffers) {\n            buffers.push(buffer);\n            downloaded += buffer.byteLength;\n            progress.value = downloaded;\n          }\n        }\n      }\n      const blob = new Blob(buffers, {type: 'application/binary'});\n      const a = document.createElement('a');\n      a.href = window.URL.createObjectURL(blob);\n      a.download = filename;\n      div.appendChild(a);\n      a.click();\n      div.remove();\n    }\n  ",
            "text/plain": [
              "<IPython.core.display.Javascript object>"
            ]
          },
          "metadata": {},
          "output_type": "display_data"
        },
        {
          "data": {
            "application/javascript": "download(\"download_91e4e525-06a9-4329-99fd-97a6726ea79e\", \"emissions_15.svg\", 142888)",
            "text/plain": [
              "<IPython.core.display.Javascript object>"
            ]
          },
          "metadata": {},
          "output_type": "display_data"
        },
        {
          "data": {
            "application/javascript": "\n    async function download(id, filename, size) {\n      if (!google.colab.kernel.accessAllowed) {\n        return;\n      }\n      const div = document.createElement('div');\n      const label = document.createElement('label');\n      label.textContent = `Downloading \"${filename}\": `;\n      div.appendChild(label);\n      const progress = document.createElement('progress');\n      progress.max = size;\n      div.appendChild(progress);\n      document.body.appendChild(div);\n\n      const buffers = [];\n      let downloaded = 0;\n\n      const channel = await google.colab.kernel.comms.open(id);\n      // Send a message to notify the kernel that we're ready.\n      channel.send({})\n\n      for await (const message of channel.messages) {\n        // Send a message to notify the kernel that we're ready.\n        channel.send({})\n        if (message.buffers) {\n          for (const buffer of message.buffers) {\n            buffers.push(buffer);\n            downloaded += buffer.byteLength;\n            progress.value = downloaded;\n          }\n        }\n      }\n      const blob = new Blob(buffers, {type: 'application/binary'});\n      const a = document.createElement('a');\n      a.href = window.URL.createObjectURL(blob);\n      a.download = filename;\n      div.appendChild(a);\n      a.click();\n      div.remove();\n    }\n  ",
            "text/plain": [
              "<IPython.core.display.Javascript object>"
            ]
          },
          "metadata": {},
          "output_type": "display_data"
        },
        {
          "data": {
            "application/javascript": "download(\"download_49c028bd-8637-4e0e-98d8-2da75c4f0a7e\", \"A549_15_expanded.bed\", 9829645)",
            "text/plain": [
              "<IPython.core.display.Javascript object>"
            ]
          },
          "metadata": {},
          "output_type": "display_data"
        },
        {
          "data": {
            "application/javascript": "\n    async function download(id, filename, size) {\n      if (!google.colab.kernel.accessAllowed) {\n        return;\n      }\n      const div = document.createElement('div');\n      const label = document.createElement('label');\n      label.textContent = `Downloading \"${filename}\": `;\n      div.appendChild(label);\n      const progress = document.createElement('progress');\n      progress.max = size;\n      div.appendChild(progress);\n      document.body.appendChild(div);\n\n      const buffers = [];\n      let downloaded = 0;\n\n      const channel = await google.colab.kernel.comms.open(id);\n      // Send a message to notify the kernel that we're ready.\n      channel.send({})\n\n      for await (const message of channel.messages) {\n        // Send a message to notify the kernel that we're ready.\n        channel.send({})\n        if (message.buffers) {\n          for (const buffer of message.buffers) {\n            buffers.push(buffer);\n            downloaded += buffer.byteLength;\n            progress.value = downloaded;\n          }\n        }\n      }\n      const blob = new Blob(buffers, {type: 'application/binary'});\n      const a = document.createElement('a');\n      a.href = window.URL.createObjectURL(blob);\n      a.download = filename;\n      div.appendChild(a);\n      a.click();\n      div.remove();\n    }\n  ",
            "text/plain": [
              "<IPython.core.display.Javascript object>"
            ]
          },
          "metadata": {},
          "output_type": "display_data"
        },
        {
          "data": {
            "application/javascript": "download(\"download_02e58062-3273-46f9-9288-051047fad06a\", \"model_15.txt\", 23271)",
            "text/plain": [
              "<IPython.core.display.Javascript object>"
            ]
          },
          "metadata": {},
          "output_type": "display_data"
        },
        {
          "data": {
            "application/javascript": "\n    async function download(id, filename, size) {\n      if (!google.colab.kernel.accessAllowed) {\n        return;\n      }\n      const div = document.createElement('div');\n      const label = document.createElement('label');\n      label.textContent = `Downloading \"${filename}\": `;\n      div.appendChild(label);\n      const progress = document.createElement('progress');\n      progress.max = size;\n      div.appendChild(progress);\n      document.body.appendChild(div);\n\n      const buffers = [];\n      let downloaded = 0;\n\n      const channel = await google.colab.kernel.comms.open(id);\n      // Send a message to notify the kernel that we're ready.\n      channel.send({})\n\n      for await (const message of channel.messages) {\n        // Send a message to notify the kernel that we're ready.\n        channel.send({})\n        if (message.buffers) {\n          for (const buffer of message.buffers) {\n            buffers.push(buffer);\n            downloaded += buffer.byteLength;\n            progress.value = downloaded;\n          }\n        }\n      }\n      const blob = new Blob(buffers, {type: 'application/binary'});\n      const a = document.createElement('a');\n      a.href = window.URL.createObjectURL(blob);\n      a.download = filename;\n      div.appendChild(a);\n      a.click();\n      div.remove();\n    }\n  ",
            "text/plain": [
              "<IPython.core.display.Javascript object>"
            ]
          },
          "metadata": {},
          "output_type": "display_data"
        },
        {
          "data": {
            "application/javascript": "download(\"download_d25c8dc1-1126-4796-b4ca-782104ecd7e1\", \"A549_15_overlap.txt\", 1302)",
            "text/plain": [
              "<IPython.core.display.Javascript object>"
            ]
          },
          "metadata": {},
          "output_type": "display_data"
        },
        {
          "data": {
            "application/javascript": "\n    async function download(id, filename, size) {\n      if (!google.colab.kernel.accessAllowed) {\n        return;\n      }\n      const div = document.createElement('div');\n      const label = document.createElement('label');\n      label.textContent = `Downloading \"${filename}\": `;\n      div.appendChild(label);\n      const progress = document.createElement('progress');\n      progress.max = size;\n      div.appendChild(progress);\n      document.body.appendChild(div);\n\n      const buffers = [];\n      let downloaded = 0;\n\n      const channel = await google.colab.kernel.comms.open(id);\n      // Send a message to notify the kernel that we're ready.\n      channel.send({})\n\n      for await (const message of channel.messages) {\n        // Send a message to notify the kernel that we're ready.\n        channel.send({})\n        if (message.buffers) {\n          for (const buffer of message.buffers) {\n            buffers.push(buffer);\n            downloaded += buffer.byteLength;\n            progress.value = downloaded;\n          }\n        }\n      }\n      const blob = new Blob(buffers, {type: 'application/binary'});\n      const a = document.createElement('a');\n      a.href = window.URL.createObjectURL(blob);\n      a.download = filename;\n      div.appendChild(a);\n      a.click();\n      div.remove();\n    }\n  ",
            "text/plain": [
              "<IPython.core.display.Javascript object>"
            ]
          },
          "metadata": {},
          "output_type": "display_data"
        },
        {
          "data": {
            "application/javascript": "download(\"download_aa48afd6-fa9f-453e-9534-3eaef60a4134\", \"transitions_15.png\", 25212)",
            "text/plain": [
              "<IPython.core.display.Javascript object>"
            ]
          },
          "metadata": {},
          "output_type": "display_data"
        },
        {
          "data": {
            "application/javascript": "\n    async function download(id, filename, size) {\n      if (!google.colab.kernel.accessAllowed) {\n        return;\n      }\n      const div = document.createElement('div');\n      const label = document.createElement('label');\n      label.textContent = `Downloading \"${filename}\": `;\n      div.appendChild(label);\n      const progress = document.createElement('progress');\n      progress.max = size;\n      div.appendChild(progress);\n      document.body.appendChild(div);\n\n      const buffers = [];\n      let downloaded = 0;\n\n      const channel = await google.colab.kernel.comms.open(id);\n      // Send a message to notify the kernel that we're ready.\n      channel.send({})\n\n      for await (const message of channel.messages) {\n        // Send a message to notify the kernel that we're ready.\n        channel.send({})\n        if (message.buffers) {\n          for (const buffer of message.buffers) {\n            buffers.push(buffer);\n            downloaded += buffer.byteLength;\n            progress.value = downloaded;\n          }\n        }\n      }\n      const blob = new Blob(buffers, {type: 'application/binary'});\n      const a = document.createElement('a');\n      a.href = window.URL.createObjectURL(blob);\n      a.download = filename;\n      div.appendChild(a);\n      a.click();\n      div.remove();\n    }\n  ",
            "text/plain": [
              "<IPython.core.display.Javascript object>"
            ]
          },
          "metadata": {},
          "output_type": "display_data"
        },
        {
          "data": {
            "application/javascript": "download(\"download_eca32715-87ef-4563-8d75-00b7a81ef16e\", \"emissions_15.png\", 24044)",
            "text/plain": [
              "<IPython.core.display.Javascript object>"
            ]
          },
          "metadata": {},
          "output_type": "display_data"
        },
        {
          "data": {
            "application/javascript": "\n    async function download(id, filename, size) {\n      if (!google.colab.kernel.accessAllowed) {\n        return;\n      }\n      const div = document.createElement('div');\n      const label = document.createElement('label');\n      label.textContent = `Downloading \"${filename}\": `;\n      div.appendChild(label);\n      const progress = document.createElement('progress');\n      progress.max = size;\n      div.appendChild(progress);\n      document.body.appendChild(div);\n\n      const buffers = [];\n      let downloaded = 0;\n\n      const channel = await google.colab.kernel.comms.open(id);\n      // Send a message to notify the kernel that we're ready.\n      channel.send({})\n\n      for await (const message of channel.messages) {\n        // Send a message to notify the kernel that we're ready.\n        channel.send({})\n        if (message.buffers) {\n          for (const buffer of message.buffers) {\n            buffers.push(buffer);\n            downloaded += buffer.byteLength;\n            progress.value = downloaded;\n          }\n        }\n      }\n      const blob = new Blob(buffers, {type: 'application/binary'});\n      const a = document.createElement('a');\n      a.href = window.URL.createObjectURL(blob);\n      a.download = filename;\n      div.appendChild(a);\n      a.click();\n      div.remove();\n    }\n  ",
            "text/plain": [
              "<IPython.core.display.Javascript object>"
            ]
          },
          "metadata": {},
          "output_type": "display_data"
        },
        {
          "data": {
            "application/javascript": "download(\"download_4e7e6e79-1259-43c8-96b0-49df3325981e\", \"transitions_15.txt\", 3783)",
            "text/plain": [
              "<IPython.core.display.Javascript object>"
            ]
          },
          "metadata": {},
          "output_type": "display_data"
        },
        {
          "data": {
            "application/javascript": "\n    async function download(id, filename, size) {\n      if (!google.colab.kernel.accessAllowed) {\n        return;\n      }\n      const div = document.createElement('div');\n      const label = document.createElement('label');\n      label.textContent = `Downloading \"${filename}\": `;\n      div.appendChild(label);\n      const progress = document.createElement('progress');\n      progress.max = size;\n      div.appendChild(progress);\n      document.body.appendChild(div);\n\n      const buffers = [];\n      let downloaded = 0;\n\n      const channel = await google.colab.kernel.comms.open(id);\n      // Send a message to notify the kernel that we're ready.\n      channel.send({})\n\n      for await (const message of channel.messages) {\n        // Send a message to notify the kernel that we're ready.\n        channel.send({})\n        if (message.buffers) {\n          for (const buffer of message.buffers) {\n            buffers.push(buffer);\n            downloaded += buffer.byteLength;\n            progress.value = downloaded;\n          }\n        }\n      }\n      const blob = new Blob(buffers, {type: 'application/binary'});\n      const a = document.createElement('a');\n      a.href = window.URL.createObjectURL(blob);\n      a.download = filename;\n      div.appendChild(a);\n      a.click();\n      div.remove();\n    }\n  ",
            "text/plain": [
              "<IPython.core.display.Javascript object>"
            ]
          },
          "metadata": {},
          "output_type": "display_data"
        },
        {
          "data": {
            "application/javascript": "download(\"download_828950f1-6dac-4e63-bb8b-44dbd874d4fb\", \"transitions_15.svg\", 110618)",
            "text/plain": [
              "<IPython.core.display.Javascript object>"
            ]
          },
          "metadata": {},
          "output_type": "display_data"
        },
        {
          "data": {
            "application/javascript": "\n    async function download(id, filename, size) {\n      if (!google.colab.kernel.accessAllowed) {\n        return;\n      }\n      const div = document.createElement('div');\n      const label = document.createElement('label');\n      label.textContent = `Downloading \"${filename}\": `;\n      div.appendChild(label);\n      const progress = document.createElement('progress');\n      progress.max = size;\n      div.appendChild(progress);\n      document.body.appendChild(div);\n\n      const buffers = [];\n      let downloaded = 0;\n\n      const channel = await google.colab.kernel.comms.open(id);\n      // Send a message to notify the kernel that we're ready.\n      channel.send({})\n\n      for await (const message of channel.messages) {\n        // Send a message to notify the kernel that we're ready.\n        channel.send({})\n        if (message.buffers) {\n          for (const buffer of message.buffers) {\n            buffers.push(buffer);\n            downloaded += buffer.byteLength;\n            progress.value = downloaded;\n          }\n        }\n      }\n      const blob = new Blob(buffers, {type: 'application/binary'});\n      const a = document.createElement('a');\n      a.href = window.URL.createObjectURL(blob);\n      a.download = filename;\n      div.appendChild(a);\n      a.click();\n      div.remove();\n    }\n  ",
            "text/plain": [
              "<IPython.core.display.Javascript object>"
            ]
          },
          "metadata": {},
          "output_type": "display_data"
        },
        {
          "data": {
            "application/javascript": "download(\"download_2ded6a2c-aff2-4493-ba74-177e7a5a908c\", \"A549_15_segments.bed\", 19162787)",
            "text/plain": [
              "<IPython.core.display.Javascript object>"
            ]
          },
          "metadata": {},
          "output_type": "display_data"
        }
      ],
      "source": [
        "from google.colab import files\n",
        "import os\n",
        "\n",
        "files.download('cellmarkfiletable.txt')\n",
        "\n",
        "for file in os.listdir('/content/data/'):\n",
        "  files.download('/content/data/' + file)"
      ]
    },
    {
      "cell_type": "code",
      "execution_count": null,
      "metadata": {
        "id": "HUWSEQO9_0gz"
      },
      "outputs": [],
      "source": []
    }
  ],
  "metadata": {
    "accelerator": "TPU",
    "colab": {
      "name": "hw3-hmm",
      "provenance": []
    },
    "kernelspec": {
      "display_name": "Python 3",
      "name": "python3"
    },
    "language_info": {
      "name": "python"
    }
  },
  "nbformat": 4,
  "nbformat_minor": 0
}
